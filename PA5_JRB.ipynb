{
 "cells": [
  {
   "cell_type": "markdown",
   "id": "f7dec530-22c5-409d-8c67-2e98427761fb",
   "metadata": {},
   "source": [
    "### Assignment 5\n",
    "### Jaleah Beason\n",
    "### Version 1.0\n",
    "### Spring 2024"
   ]
  },
  {
   "cell_type": "markdown",
   "id": "c69bdd68-186f-4e89-a8d3-2d175f487c45",
   "metadata": {},
   "source": [
    "### Problem 1"
   ]
  },
  {
   "cell_type": "code",
   "execution_count": null,
   "id": "1384dadf-7493-47ed-8786-b20de53585dd",
   "metadata": {},
   "outputs": [
    {
     "name": "stdout",
     "output_type": "stream",
     "text": [
      "Enter a word to translate from English to French (enter q to stop):\n"
     ]
    }
   ],
   "source": [
    "dictionary = {\n",
    "    \"car\": \"voiture\",\n",
    "    \"chair\": \"chaise\",\n",
    "    \"man\": \"homme\",\n",
    "    \"woman\": \"femme\",\n",
    "    \"bear\": \"not in this dictionary\",\n",
    "    \"cat\": \"not in this dictionary\",\n",
    "    \"dog\": \"not in this dictionary\",\n",
    "    \"home\": \"maison\",\n",
    "    \"water\": \"eau\",\n",
    "    \"keys\": \"not in this dictionary\",\n",
    "    \"shirt\": \"chemise\",\n",
    "    \"computer\": \"ordinateur\",\n",
    "    \"school\": \"not in this dictionary\",\n",
    "    \"boy\": \"not in this dictionary\",\n",
    "    \"girl\": \"fille\",\n",
    "    \"wedding\": \"mariage\",\n",
    "    \"birthday\": \"anniversaire\",\n",
    "    \"gold\": \"not in this dictionary\",\n",
    "    \"hair\": \"cheveux\"\n",
    "}\n",
    "\n",
    "print(\"Enter a word to translate from English to French (enter q to stop):\")\n",
    "while True:\n",
    "    word = input().lower()\n",
    "    if word == 'q':\n",
    "        break\n",
    "    translation = dictionary.get(word, \"not in this dictionary\")\n",
    "    if translation != \"not in this dictionary\":\n",
    "        print(f\"The French word for {word.upper()} is {translation.upper()}.\")\n",
    "    else:\n",
    "        print(f\"The French word for {word.upper()} is {translation}.\")"
   ]
  },
  {
   "cell_type": "markdown",
   "id": "bb6422f3-09b3-4a8e-932d-dffd4a73782f",
   "metadata": {},
   "source": [
    "### Problem 2"
   ]
  },
  {
   "cell_type": "code",
   "execution_count": null,
   "id": "6f4491fa-fa90-4e8a-ac3c-b2064dabdccd",
   "metadata": {
    "tags": []
   },
   "outputs": [],
   "source": [
    "# Define Morse Code mappings\n",
    "morse_code_mapping = {\n",
    "    'A': '.-', 'B': '-...', 'C': '-.-.', 'D': '-..', 'E': '.', 'F': '..-.', 'G': '--.', 'H': '....', 'I': '..', 'J': '.---',\n",
    "    'K': '-.-', 'L': '.-..', 'M': '--', 'N': '-.', 'O': '---', 'P': '.--.', 'Q': '--.-', 'R': '.-.', 'S': '...', 'T': '-',\n",
    "    'U': '..-', 'V': '...-', 'W': '.--', 'X': '-..-', 'Y': '-.--', 'Z': '--..',\n",
    "    '0': '-----', '1': '.----', '2': '..---', '3': '...--', '4': '....-', '5': '.....',\n",
    "    '6': '-....', '7': '--...', '8': '---..', '9': '----.'\n",
    "}\n",
    "\n",
    "def translate_to_morse(sentence):\n",
    "    morse_code_translation = \"\"\n",
    "    for char in sentence:\n",
    "        if char.upper() in morse_code_mapping:\n",
    "            morse_code_translation += morse_code_mapping[char.upper()] + \" \"\n",
    "    return morse_code_translation.strip()\n",
    "\n",
    "# Prompt for messages until the user types lowercase 'q'\n",
    "while True:\n",
    "    message = input(\"Enter a message to translate to Morse Code (type 'q' to quit): \")\n",
    "    if message.lower() == 'q':\n",
    "        break\n",
    "    else:\n",
    "        morse_translation = translate_to_morse(message)\n",
    "        print(\"Morse Code Translation:\", morse_translation)"
   ]
  },
  {
   "cell_type": "markdown",
   "id": "f7d5ccf4-466d-4935-ae72-aee17775a6ee",
   "metadata": {},
   "source": [
    "### Problem 3"
   ]
  },
  {
   "cell_type": "code",
   "execution_count": null,
   "id": "dd893c2e-cff3-4ade-a553-36cde67c2ff7",
   "metadata": {
    "tags": []
   },
   "outputs": [],
   "source": [
    "# Define course sets for each minor/major\n",
    "computer_science_minor = {\"CS130\", \"CS131\", \"CS215\", \"CS305\", \"CS310\"}\n",
    "business_administration_minor = {\"BUSA103\", \"BUSA203\", \"BUSA 103\", \"BUSA 245\", \"BUSA346\", \"CS150\", \"DS160\", \"DS300\", \"BUSA301\", \"BUSA305\", \"ACCT101\", \"ECON110\" , \"FINA315\", \"MATH125\", \"MATH117\", \"MATH205\", \"PSYC103\"}\n",
    "business_analytics_minor = { \"BUSA103\", \"BUSA245\", \"BUSA346\", \"CS150\", \"DS160\", \"DS300\", \"MATH117\", \"MATH125\", \"MATH205\"}\n",
    "data_science_major = {\"DS101\", \"DS102\", \"DS103\"}\n",
    "\n",
    "# i. Find overlapping courses between Business Administration and Business Analytics minors\n",
    "overlap_courses = business_administration_minor.intersection(business_analytics_minor)\n",
    "print(\"Overlapping courses between Business Administration and Business Analytics minors:\", overlap_courses)\n",
    "\n",
    "# ii. Get a list of all courses required for Business Administration and Computer Science minors\n",
    "all_courses = business_administration_minor.union(computer_science_minor)\n",
    "print(\"All courses required for Business Administration and Computer Science minors:\", all_courses)\n",
    "\n",
    "# iii. Get a list of courses in Business Administration minor but not in Business Analytics minor\n",
    "ba_not_in_ba = business_administration_minor.difference(business_analytics_minor)\n",
    "print(\"Courses in Business Administration minor but not in Business Analytics minor:\", ba_not_in_ba)\n",
    "\n",
    "# iv. Verify no overlapping courses between Computer Science major and Data Science major\n",
    "cs_ds_overlap = computer_science_minor.intersection(data_science_major)\n",
    "if cs_ds_overlap:\n",
    "    print(\"There are overlapping courses between Computer Science major and Data Science major.\")\n",
    "else:\n",
    "    print(\"There are no overlapping courses between Computer Science major and Data Science major.\")\n",
    "\n",
    "# v. Verify that Business Analytics minor is completely subsumed by Data Science major\n",
    "ba_subsumed_by_ds = business_analytics_minor.issubset(data_science_major)\n",
    "if ba_subsumed_by_ds:\n",
    "    print(\"Business Analytics minor is completely subsumed by Data Science major.\")\n",
    "else:\n",
    "    print(\"Business Analytics minor is not completely subsumed by Data Science major.\")"
   ]
  },
  {
   "cell_type": "markdown",
   "id": "099e8eb2-6e11-45ee-a187-3a547c369da6",
   "metadata": {},
   "source": [
    "### Problem 4"
   ]
  },
  {
   "cell_type": "code",
   "execution_count": null,
   "id": "f8058041-82a4-4214-9cce-d984da1c4446",
   "metadata": {
    "tags": []
   },
   "outputs": [],
   "source": [
    "import numpy as np\n",
    "\n",
    "# Generate two 5x5 arrays filled with numbers between 0 and 20\n",
    "array1 = np.random.randint(0, 21, size=(5, 5))\n",
    "array2 = np.random.randint(0, 21, size=(5, 5))\n",
    "\n",
    "print(\"Array 1:\")\n",
    "print(array1)\n",
    "print(\"\\nArray 2:\")\n",
    "print(array2)\n",
    "\n",
    "# Calculate matrix product\n",
    "matrix_product = np.matmul(array1, array2)\n",
    "\n",
    "# Calculate dot product\n",
    "dot_product = np.dot(array1.flatten(), array2.flatten())\n",
    "\n",
    "print(\"\\nMatrix Product:\")\n",
    "print(matrix_product)\n",
    "print(\"\\nDot Product:\")\n",
    "print(dot_product)"
   ]
  },
  {
   "cell_type": "code",
   "execution_count": null,
   "id": "41f79404-dfa7-4a82-820b-4f4b4f5bd45d",
   "metadata": {
    "tags": []
   },
   "outputs": [],
   "source": [
    "# Calculate determinant of array1\n",
    "det_array1 = np.linalg.det(array1)\n",
    "\n",
    "# Calculate determinant of array2\n",
    "det_array2 = np.linalg.det(array2)\n",
    "\n",
    "# Check if determinants are non-zero before calculating inverses\n",
    "if det_array1 != 0:\n",
    "    inv_array1 = np.linalg.inv(array1)\n",
    "else:\n",
    "    inv_array1 = None\n",
    "\n",
    "if det_array2 != 0:\n",
    "    inv_array2 = np.linalg.inv(array2)\n",
    "else:\n",
    "    inv_array2 = None\n",
    "\n",
    "print(\"\\nDeterminant of Array 1:\", det_array1)\n",
    "print(\"Inverse of Array 1:\")\n",
    "print(inv_array1)\n",
    "print(\"\\nDeterminant of Array 2:\", det_array2)\n",
    "print(\"Inverse of Array 2:\")\n",
    "print(inv_array2)"
   ]
  },
  {
   "cell_type": "code",
   "execution_count": null,
   "id": "ac630ba3-c421-4194-8bf0-3b049bfeb174",
   "metadata": {
    "tags": []
   },
   "outputs": [],
   "source": [
    "# Create two 1D arrays containing 20 evenly spaced values\n",
    "array1 = np.linspace(0, 1, 20)\n",
    "array2 = np.linspace(1, 2, 20)\n",
    "\n",
    "# Concatenate the arrays into a single array\n",
    "combined_array = np.concatenate((array1, array2))\n",
    "\n",
    "# Reshape the combined array into a 2D array of shape (10, 4)\n",
    "reshaped_array = combined_array.reshape((10, 4))\n",
    "\n",
    "print(\"Combined and Reshaped Array:\")\n",
    "print(reshaped_array)"
   ]
  }
 ],
 "metadata": {
  "kernelspec": {
   "display_name": "Python 3 (ipykernel)",
   "language": "python",
   "name": "python3"
  },
  "language_info": {
   "codemirror_mode": {
    "name": "ipython",
    "version": 3
   },
   "file_extension": ".py",
   "mimetype": "text/x-python",
   "name": "python",
   "nbconvert_exporter": "python",
   "pygments_lexer": "ipython3",
   "version": "3.11.5"
  }
 },
 "nbformat": 4,
 "nbformat_minor": 5
}
